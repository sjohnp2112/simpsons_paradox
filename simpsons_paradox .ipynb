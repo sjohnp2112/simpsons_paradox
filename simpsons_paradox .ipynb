{
 "cells": [
  {
   "cell_type": "markdown",
   "metadata": {
    "collapsed": true
   },
   "source": [
    "# Simpson's Paradox\n",
    "Use `admission_data.csv` for this exercise."
   ]
  },
  {
   "cell_type": "code",
   "execution_count": 113,
   "metadata": {},
   "outputs": [
    {
     "data": {
      "text/html": [
       "<div>\n",
       "<style scoped>\n",
       "    .dataframe tbody tr th:only-of-type {\n",
       "        vertical-align: middle;\n",
       "    }\n",
       "\n",
       "    .dataframe tbody tr th {\n",
       "        vertical-align: top;\n",
       "    }\n",
       "\n",
       "    .dataframe thead th {\n",
       "        text-align: right;\n",
       "    }\n",
       "</style>\n",
       "<table border=\"1\" class=\"dataframe\">\n",
       "  <thead>\n",
       "    <tr style=\"text-align: right;\">\n",
       "      <th></th>\n",
       "      <th>student_id</th>\n",
       "      <th>gender</th>\n",
       "      <th>major</th>\n",
       "      <th>admitted</th>\n",
       "    </tr>\n",
       "  </thead>\n",
       "  <tbody>\n",
       "    <tr>\n",
       "      <th>0</th>\n",
       "      <td>35377</td>\n",
       "      <td>female</td>\n",
       "      <td>Chemistry</td>\n",
       "      <td>False</td>\n",
       "    </tr>\n",
       "    <tr>\n",
       "      <th>1</th>\n",
       "      <td>56105</td>\n",
       "      <td>male</td>\n",
       "      <td>Physics</td>\n",
       "      <td>True</td>\n",
       "    </tr>\n",
       "    <tr>\n",
       "      <th>2</th>\n",
       "      <td>31441</td>\n",
       "      <td>female</td>\n",
       "      <td>Chemistry</td>\n",
       "      <td>False</td>\n",
       "    </tr>\n",
       "    <tr>\n",
       "      <th>3</th>\n",
       "      <td>51765</td>\n",
       "      <td>male</td>\n",
       "      <td>Physics</td>\n",
       "      <td>True</td>\n",
       "    </tr>\n",
       "    <tr>\n",
       "      <th>4</th>\n",
       "      <td>53714</td>\n",
       "      <td>female</td>\n",
       "      <td>Physics</td>\n",
       "      <td>True</td>\n",
       "    </tr>\n",
       "  </tbody>\n",
       "</table>\n",
       "</div>"
      ],
      "text/plain": [
       "   student_id  gender      major  admitted\n",
       "0       35377  female  Chemistry     False\n",
       "1       56105    male    Physics      True\n",
       "2       31441  female  Chemistry     False\n",
       "3       51765    male    Physics      True\n",
       "4       53714  female    Physics      True"
      ]
     },
     "execution_count": 113,
     "metadata": {},
     "output_type": "execute_result"
    }
   ],
   "source": [
    "# Load and view first few lines of dataset\n",
    "import pandas as pd\n",
    "import numpy as np\n",
    "import matplotlib.pyplot as plt\n",
    "%matplotlib inline\n",
    "\n",
    "df = pd.read_csv('admission_data.csv')\n",
    "%matplotlib inline\n",
    "\n",
    "df.head()"
   ]
  },
  {
   "cell_type": "markdown",
   "metadata": {},
   "source": [
    "### Proportion and admission rate for each gender"
   ]
  },
  {
   "cell_type": "code",
   "execution_count": 129,
   "metadata": {},
   "outputs": [
    {
     "data": {
      "text/plain": [
       "student_id    0.514\n",
       "gender        0.514\n",
       "major         0.514\n",
       "admitted      0.514\n",
       "dtype: float64"
      ]
     },
     "execution_count": 129,
     "metadata": {},
     "output_type": "execute_result"
    }
   ],
   "source": [
    "# Proportion of students that are female\n",
    "\n",
    "# create variables\n",
    "df_gender_f = df.query('gender == \"female\"')\n",
    "df_gender_m = df.query('gender == \"male\"')\n",
    "df_students_all = 500\n",
    "\n",
    "# get the count of males and females\n",
    "df_gender_f_count = df.query('gender == \"female\"').count() #257\n",
    "df_gender_m_count =  df.query('gender == \"male\"').count()\n",
    "\n",
    "# the total of all students\n",
    "df_gender_total = df_gender_f_count + df_gender_m_count\n",
    "#df_gender_prop_m = df_gender_m_count / df_gender_total\n",
    "\n",
    "\n",
    "df_gender_prop_f = df_gender_f_count / df_gender_total\n",
    "\n",
    "df_gender_prop_f # 51.4%\n"
   ]
  },
  {
   "cell_type": "code",
   "execution_count": 115,
   "metadata": {},
   "outputs": [
    {
     "data": {
      "text/plain": [
       "student_id    0.486\n",
       "gender        0.486\n",
       "major         0.486\n",
       "admitted      0.486\n",
       "dtype: float64"
      ]
     },
     "execution_count": 115,
     "metadata": {},
     "output_type": "execute_result"
    }
   ],
   "source": [
    "# Proportion of students that are male\n",
    "\n",
    "df_gender_prop_m = df_gender_m_count / df_gender_total\n",
    "df_gender_prop_m # 48.6%\n"
   ]
  },
  {
   "cell_type": "code",
   "execution_count": 116,
   "metadata": {},
   "outputs": [
    {
     "name": "stdout",
     "output_type": "stream",
     "text": [
      "Admission Rate:  student_id    0.514\n",
      "gender        0.514\n",
      "major         0.514\n",
      "admitted      0.514\n",
      "dtype: float64\n"
     ]
    }
   ],
   "source": [
    "# Admission rate for females\n",
    "print(\"Admission Rate: \", df_gender_prop_f)"
   ]
  },
  {
   "cell_type": "code",
   "execution_count": 117,
   "metadata": {},
   "outputs": [
    {
     "name": "stdout",
     "output_type": "stream",
     "text": [
      "Admission Rate:  student_id    0.486\n",
      "gender        0.486\n",
      "major         0.486\n",
      "admitted      0.486\n",
      "dtype: float64\n"
     ]
    }
   ],
   "source": [
    "# Admission rate for males\n",
    "print(\"Admission Rate: \", df_gender_prop_m )"
   ]
  },
  {
   "cell_type": "markdown",
   "metadata": {},
   "source": [
    "### Proportion and admission rate for physics majors of each gender"
   ]
  },
  {
   "cell_type": "code",
   "execution_count": 133,
   "metadata": {},
   "outputs": [
    {
     "data": {
      "text/plain": [
       "student_id    0.741935\n",
       "gender        0.741935\n",
       "major         0.741935\n",
       "admitted      0.741935\n",
       "dtype: float64"
      ]
     },
     "execution_count": 133,
     "metadata": {},
     "output_type": "execute_result"
    }
   ],
   "source": [
    "# What proportion of female students are majoring in physics?\n",
    "# select all female students\n",
    "df_gender_f = df.query('gender == \"female\"')\n",
    "\n",
    "# get the count of Physics majors of femaile students\n",
    "df_physics_f = df_gender_f.query('major == \"Physics\"')\n",
    "df_physics_f_count = df_gender_f.query('major == \"Physics\"').count()\n",
    "df_physics_f_count #31\n",
    "\n",
    "#get the count of Physics majors of female students that were admitted\n",
    "df_admitted_f  =  df_physics_f.query('admitted == True')\n",
    "df_admitted_f_physics = df_physics_f.query('admitted == True').count()\n",
    "df_admitted_f_physics #23\n",
    "\n",
    "# #get the proportion of females admitted\n",
    "df_admitted_f_prop = df_admitted_f_physics/ df_physics_f_count\n",
    "df_admitted_f_prop\n",
    "\n",
    "#  74.2% of female students are majoring in Physics"
   ]
  },
  {
   "cell_type": "code",
   "execution_count": 119,
   "metadata": {},
   "outputs": [
    {
     "data": {
      "text/plain": [
       "student_id    0.524444\n",
       "gender        0.524444\n",
       "major         0.524444\n",
       "admitted      0.524444\n",
       "dtype: float64"
      ]
     },
     "execution_count": 119,
     "metadata": {},
     "output_type": "execute_result"
    }
   ],
   "source": [
    "# What proportion of male students are majoring in physics?\n",
    "# select all male students\n",
    "# get the count of Physics majors\n",
    "df_physics_m = df_gender_m.query('gender == \"male\"')\n",
    "\n",
    "df_physics_m_count = df_gender_m.query('major == \"Physics\"').count()\n",
    "df_physics_m_count #31\n",
    "\n",
    "\n",
    "#get the count of Physics majors that were admitted\n",
    "df_admitted_m  =  df_physics_m.query('admitted == True')\n",
    "df_admitted_m_physics = df_admitted_m.query('admitted == True').count()\n",
    "\n",
    "\n",
    "df_admitted_m_prop = df_admitted_m_physics / df_physics_m_count\n",
    "\n",
    "\n",
    "df_admitted_m_prop\n",
    "\n",
    "#  52.4% of male students are majoring in Physics\n"
   ]
  },
  {
   "cell_type": "code",
   "execution_count": 120,
   "metadata": {},
   "outputs": [
    {
     "name": "stdout",
     "output_type": "stream",
     "text": [
      "Admission Rate  student_id    0.741935\n",
      "gender        0.741935\n",
      "major         0.741935\n",
      "admitted      0.741935\n",
      "dtype: float64\n"
     ]
    }
   ],
   "source": [
    "# Admission rate for female physics majors\n",
    "\n",
    "print(\"Admission Rate \", df_admitted_f_prop)\n",
    "\n",
    "# the admission rate for female students majoring in Physics is 74.2%"
   ]
  },
  {
   "cell_type": "code",
   "execution_count": 121,
   "metadata": {},
   "outputs": [
    {
     "name": "stdout",
     "output_type": "stream",
     "text": [
      "Admission Rate:  student_id    0.524444\n",
      "gender        0.524444\n",
      "major         0.524444\n",
      "admitted      0.524444\n",
      "dtype: float64\n"
     ]
    }
   ],
   "source": [
    "# Admission rate for male physics majors\n",
    "print(\"Admission Rate: \", df_admitted_m_prop)\n",
    "\n",
    "#the admission rate for male students majoring in Physics is 52.4%\n"
   ]
  },
  {
   "cell_type": "markdown",
   "metadata": {},
   "source": [
    "### Proportion and admission rate for chemistry majors of each gender"
   ]
  },
  {
   "cell_type": "code",
   "execution_count": 122,
   "metadata": {},
   "outputs": [
    {
     "data": {
      "text/plain": [
       "student_id    0.225664\n",
       "gender        0.225664\n",
       "major         0.225664\n",
       "admitted      0.225664\n",
       "dtype: float64"
      ]
     },
     "execution_count": 122,
     "metadata": {},
     "output_type": "execute_result"
    }
   ],
   "source": [
    "# What proportion of female students are majoring in chemistry?\n",
    "df_chemistry_f = df_gender_f.query('major == \"Chemistry\"') \n",
    "df_chemistry_f_count = df_gender_f.query('major == \"Chemistry\"').count()#226\n",
    "\n",
    "df_admitted_f = df_chemistry_f.query('admitted == True')\n",
    "df_admitted_f_chem = df_chemistry_f.query('admitted == True').count()#51\n",
    "\n",
    "df_admitted_f_prop = df_admitted_f_chem / df_chemistry_f_count\n",
    "df_admitted_f_prop\n",
    "\n",
    "#df_admitted_f_prop #22.6%\n",
    "#df_admitted_f_count"
   ]
  },
  {
   "cell_type": "code",
   "execution_count": 123,
   "metadata": {},
   "outputs": [
    {
     "data": {
      "text/plain": [
       "student_id    0.111111\n",
       "gender        0.111111\n",
       "major         0.111111\n",
       "admitted      0.111111\n",
       "dtype: float64"
      ]
     },
     "execution_count": 123,
     "metadata": {},
     "output_type": "execute_result"
    }
   ],
   "source": [
    "# What proportion of male students are majoring in chemistry?\n",
    "df_chemistry_m = df_gender_m.query('major == \"Chemistry\"') \n",
    "df_chemistry_m_count = df_gender_m.query('major == \"Chemistry\"').count()#18\n",
    "df_chemistry_m_count\n",
    "\n",
    "df_admitted_m = df_chemistry_m.query('admitted == True')\n",
    "df_admitted_m_chem = df_chemistry_m.query('admitted == True').count()\n",
    "df_admitted_m_chem #2?\n",
    "\n",
    "df_admitted_m_prop = df_admitted_m_chem / df_chemistry_m_count\n",
    "df_admitted_m_prop # 11%\n"
   ]
  },
  {
   "cell_type": "code",
   "execution_count": 124,
   "metadata": {},
   "outputs": [
    {
     "name": "stdout",
     "output_type": "stream",
     "text": [
      "Admission Rate  student_id    0.225664\n",
      "gender        0.225664\n",
      "major         0.225664\n",
      "admitted      0.225664\n",
      "dtype: float64\n"
     ]
    }
   ],
   "source": [
    "# Admission rate for female chemistry majors\n",
    "print(\"Admission Rate \", df_admitted_f_prop)"
   ]
  },
  {
   "cell_type": "code",
   "execution_count": 125,
   "metadata": {},
   "outputs": [
    {
     "name": "stdout",
     "output_type": "stream",
     "text": [
      "Admission Rate  student_id    0.111111\n",
      "gender        0.111111\n",
      "major         0.111111\n",
      "admitted      0.111111\n",
      "dtype: float64\n"
     ]
    }
   ],
   "source": [
    "# Admission rate for male chemistry majors\n",
    "print(\"Admission Rate \", df_admitted_m_prop)"
   ]
  },
  {
   "cell_type": "markdown",
   "metadata": {},
   "source": [
    "### Admission rate for each major"
   ]
  },
  {
   "cell_type": "code",
   "execution_count": 126,
   "metadata": {},
   "outputs": [
    {
     "name": "stdout",
     "output_type": "stream",
     "text": [
      "The admission rate for all physics majors is:  student_id    28.2\n",
      "gender        28.2\n",
      "major         28.2\n",
      "admitted      28.2\n",
      "dtype: float64\n"
     ]
    }
   ],
   "source": [
    "# Admission rate for physics majors\n",
    "df_admitted_all = df_admitted_m_physics + df_admitted_f_physics\n",
    "df_prop_all = df_admitted_all / df_students_all\n",
    "print(\"The admission rate for all physics majors is: \", (df_prop_all * 100)) # 28.2%"
   ]
  },
  {
   "cell_type": "code",
   "execution_count": 127,
   "metadata": {},
   "outputs": [
    {
     "name": "stdout",
     "output_type": "stream",
     "text": [
      "The admission rate for all chemistry majors is:  student_id    10.6\n",
      "gender        10.6\n",
      "major         10.6\n",
      "admitted      10.6\n",
      "dtype: float64\n"
     ]
    }
   ],
   "source": [
    "# Admission rate for chemistry majors\n",
    "df_admitted_all = df_admitted_m_chem + df_admitted_f_chem\n",
    "df_prop_all = df_admitted_all / df_students_all\n",
    "print(\"The admission rate for all chemistry majors is: \", (df_prop_all * 100)) # 10.6%"
   ]
  }
 ],
 "metadata": {
  "kernelspec": {
   "display_name": "Python 3",
   "language": "python",
   "name": "python3"
  },
  "language_info": {
   "codemirror_mode": {
    "name": "ipython",
    "version": 3
   },
   "file_extension": ".py",
   "mimetype": "text/x-python",
   "name": "python",
   "nbconvert_exporter": "python",
   "pygments_lexer": "ipython3",
   "version": "3.6.3"
  }
 },
 "nbformat": 4,
 "nbformat_minor": 2
}
